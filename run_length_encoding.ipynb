{
  "nbformat": 4,
  "nbformat_minor": 0,
  "metadata": {
    "colab": {
      "name": "run-length-encoding.ipynb",
      "provenance": [],
      "collapsed_sections": [],
      "authorship_tag": "ABX9TyPBSyuhbCBYw7Mp8Enn5S++",
      "include_colab_link": true
    },
    "kernelspec": {
      "name": "python3",
      "display_name": "Python 3"
    }
  },
  "cells": [
    {
      "cell_type": "markdown",
      "metadata": {
        "id": "view-in-github",
        "colab_type": "text"
      },
      "source": [
        "<a href=\"https://colab.research.google.com/github/VGGatGitHub/VSD-Exercises/blob/master/run_length_encoding.ipynb\" target=\"_parent\"><img src=\"https://colab.research.google.com/assets/colab-badge.svg\" alt=\"Open In Colab\"/></a>"
      ]
    },
    {
      "cell_type": "code",
      "metadata": {
        "id": "aWGO6enuRnKJ",
        "colab_type": "code",
        "colab": {}
      },
      "source": [
        "# the decoder function was added but it can only handle up to 2 digits numbers.\n",
        "\n",
        "def decode(string):\n",
        "  output=\"\"\n",
        "  n=0\n",
        "  i=0\n",
        "\n",
        "  while i < len(string):\n",
        "    \n",
        "    if string[i].isdigit() :\n",
        "      if string[i+1].isdigit(): #VGG there are two digit numbers ...\n",
        "        n=10*int(string[i])+int(string[i+1])\n",
        "        i=i+2 #ltr=string[i+2]\n",
        "        #print(n,string)\n",
        "      else:\n",
        "        n=int(string[i])\n",
        "        i=i+1 #ltr=string[i+1]\n",
        "    else:\n",
        "        n=1\n",
        "    \n",
        "    ltr=string[i]\n",
        "    i+=1\n",
        "    for j in range(n):\n",
        "      output+=ltr\n",
        "\n",
        "  return output\n",
        "\n",
        "\n",
        "def encode(string):\n",
        "    if len(string) < 2:\n",
        "        return string\n",
        "\n",
        "    output = \"\"\n",
        "    prev_letter = \"\"\n",
        "    count = 0\n",
        "    for i in range(len(string)):\n",
        "\n",
        "        if string[i] == prev_letter:\n",
        "            count += 1\n",
        "        else:\n",
        "            if count > 1:\n",
        "                output += str(count) + prev_letter\n",
        "            else:\n",
        "                output += prev_letter\n",
        "            count = 1\n",
        "        prev_letter=string[i]\n",
        "        \n",
        "    if count > 1:\n",
        "      output += str(count) + prev_letter\n",
        "    else:\n",
        "      output += prev_letter\n",
        "\n",
        "    return output"
      ],
      "execution_count": 0,
      "outputs": []
    },
    {
      "cell_type": "code",
      "metadata": {
        "id": "tDXle2j4SCLW",
        "colab_type": "code",
        "colab": {
          "base_uri": "https://localhost:8080/",
          "height": 102
        },
        "outputId": "7e4f0edf-6873-4641-ca25-b6b262ab565c"
      },
      "source": [
        "import unittest\n",
        "\n",
        "#VGG# from run_length_encoding import encode, decode\n",
        "\n",
        "# Tests adapted from `problem-specifications//canonical-data.json` @ v1.1.0\n",
        "\n",
        "\n",
        "class RunLengthEncodingTest(unittest.TestCase):\n",
        "    def test_encode_empty_string(self):\n",
        "        self.assertMultiLineEqual(encode(\"\"), \"\")\n",
        "\n",
        "    def test_encode_single_characters_only_are_encoded_without_count(self):\n",
        "        self.assertMultiLineEqual(encode(\"XYZ\"), \"XYZ\")\n",
        "\n",
        "    def test_encode_string_with_no_single_characters(self):\n",
        "        self.assertMultiLineEqual(encode(\"AABBBCCCC\"), \"2A3B4C\")\n",
        "\n",
        "    def test_encode_single_characters_mixed_with_repeated_characters(self):\n",
        "        self.assertMultiLineEqual(\n",
        "            encode(\"WWWWWWWWWWWWBWWWWWWWWWWWWBBBWWWWWWWWWWWWWWWWWWWWWWWWB\"),\n",
        "            \"12WB12W3B24WB\",\n",
        "        )\n",
        "\n",
        "    def test_encode_multiple_whitespace_mixed_in_string(self):\n",
        "        self.assertMultiLineEqual(encode(\"  hsqq qww  \"), \"2 hs2q q2w2 \")\n",
        "\n",
        "    def test_encode_lowercase_characters(self):\n",
        "        self.assertMultiLineEqual(encode(\"aabbbcccc\"), \"2a3b4c\")\n",
        "\n",
        "    def test_decode_empty_string(self):\n",
        "        self.assertMultiLineEqual(decode(\"\"), \"\")\n",
        "\n",
        "    def test_decode_single_characters_only(self):\n",
        "        self.assertMultiLineEqual(decode(\"XYZ\"), \"XYZ\")\n",
        "\n",
        "    def test_decode_string_with_no_single_characters(self):\n",
        "        self.assertMultiLineEqual(decode(\"2A3B4C\"), \"AABBBCCCC\")\n",
        "\n",
        "    def test_decode_single_characters_with_repeated_characters(self):\n",
        "        self.assertMultiLineEqual(\n",
        "            decode(\"12WB12W3B24WB\"),\n",
        "            \"WWWWWWWWWWWWBWWWWWWWWWWWWBBBWWWWWWWWWWWWWWWWWWWWWWWWB\",\n",
        "        )\n",
        "\n",
        "    def test_decode_multiple_whitespace_mixed_in_string(self):\n",
        "        self.assertMultiLineEqual(decode(\"2 hs2q q2w2 \"), \"  hsqq qww  \")\n",
        "\n",
        "    def test_decode_lower_case_string(self):\n",
        "        self.assertMultiLineEqual(decode(\"2a3b4c\"), \"aabbbcccc\")\n",
        "\n",
        "    def test_encode_followed_by_decode_gives_original_string(self):\n",
        "        self.assertMultiLineEqual(decode(encode(\"zzz ZZ  zZ\")), \"zzz ZZ  zZ\")\n",
        "\n",
        "\n",
        "if __name__ == \"__main__\":\n",
        "    #VGG#unittest.main()\n",
        "    unittest.main(argv=['first-arg-is-ignored'], exit=False)"
      ],
      "execution_count": 58,
      "outputs": [
        {
          "output_type": "stream",
          "text": [
            ".............\n",
            "----------------------------------------------------------------------\n",
            "Ran 13 tests in 0.018s\n",
            "\n",
            "OK\n"
          ],
          "name": "stderr"
        }
      ]
    }
  ]
}